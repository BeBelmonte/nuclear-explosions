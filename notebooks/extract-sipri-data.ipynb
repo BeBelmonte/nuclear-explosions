{
 "cells": [
  {
   "cell_type": "markdown",
   "metadata": {},
   "source": [
    "# Extracting data from the FOA/SIPRI nuclear explosions report\n",
    "\n",
    "Requirements: `pdfplumber` & `pandas`"
   ]
  },
  {
   "cell_type": "code",
   "execution_count": 1,
   "metadata": {
    "collapsed": true
   },
   "outputs": [],
   "source": [
    "import pdfplumber\n",
    "import pandas as pd\n",
    "import re"
   ]
  },
  {
   "cell_type": "markdown",
   "metadata": {},
   "source": [
    "## Parse the PDF"
   ]
  },
  {
   "cell_type": "code",
   "execution_count": 2,
   "metadata": {
    "collapsed": true
   },
   "outputs": [],
   "source": [
    "path = \"../documents/sipri-report-original.pdf\"\n",
    "pdf = pdfplumber.open(path, pages=range(23, 41))"
   ]
  },
  {
   "cell_type": "code",
   "execution_count": 3,
   "metadata": {
    "collapsed": true
   },
   "outputs": [],
   "source": [
    "columns = [\n",
    "    \"date\", \"origin_t\", \"id_no\", \"country\", \"region\", \"source\",\n",
    "    \"latitude\", \"longitude\", \"mb\", \"Ms\", \"depth\", \"yield_1\", \"yield_u\",\n",
    "    \"purpose\", \"name\", \"type\"\n",
    "]"
   ]
  },
  {
   "cell_type": "code",
   "execution_count": 4,
   "metadata": {
    "collapsed": true
   },
   "outputs": [],
   "source": [
    "def fix_line(line):\n",
    "    fix_1 = re.sub(r\" (WR|WE|PNE|WE/SAM|WR/F/S|FMS|WR/SE|WR/SAM|\"\n",
    "                  r\"WR/PNE|WR/FMS|WE/WR|SE|SAM|PNE:PLO|PNErPLO|PNE:V)\\|\", r\"|\\1|\", line)\n",
    "    fix_1_sp = fix_1.split(\"|\")\n",
    "    if fix_1_sp[12] in (\"WR\",):\n",
    "        fix_2 = \"|\".join(fix_1_sp[:12] + [\"\"] + fix_1_sp[12:])\n",
    "    else:\n",
    "        fix_2 = fix_1\n",
    "    return fix_2\n",
    "        "
   ]
  },
  {
   "cell_type": "code",
   "execution_count": 5,
   "metadata": {
    "collapsed": false
   },
   "outputs": [],
   "source": [
    "def extract_table_from_page(page):\n",
    "    # Remove stray apostrophes (from scan)\n",
    "    filtered = page.filter(lambda x: x.get(\"text\", None) not in (\"'\", \" \"))\n",
    "\n",
    "    # Chop off header if present\n",
    "    page_words = filtered.extract_words(x_tolerance=1, y_tolerance=3)\n",
    "    if page_words[0][\"text\"] == \"Date\":\n",
    "        top = page_words[0][\"bottom\"]\n",
    "    else:\n",
    "        top = 0\n",
    "        \n",
    "    cropped = filtered.crop((0, top, page.width, 770), strict=True)\n",
    "    \n",
    "    # Extract table\n",
    "    table = cropped.extract_table(\n",
    "        v=\"gutters\", h=\"gutters\", \n",
    "        x_tolerance=1, y_tolerance=3,\n",
    "        gutter_min_height=4, gutter_min_width=4)\n",
    "    \n",
    "    fixed_table = [ [ z or None for z in fix_line(\"|\".join(x or \"\" for x in line)).split(\"|\") ]\n",
    "        for line in table ]\n",
    "    \n",
    "    df = pd.DataFrame(fixed_table)\n",
    "\n",
    "    if len(df.columns) == 17:\n",
    "        df = df[df.columns[:16]]\n",
    "\n",
    "    df.columns = columns\n",
    "    return df"
   ]
  },
  {
   "cell_type": "code",
   "execution_count": 6,
   "metadata": {
    "collapsed": false
   },
   "outputs": [],
   "source": [
    "tables = [ extract_table_from_page(p) for p in pdf.pages ]\n",
    "data = pd.concat(tables).reset_index(drop=True)"
   ]
  },
  {
   "cell_type": "markdown",
   "metadata": {},
   "source": [
    "## Fix obvious OCR errors in the data"
   ]
  },
  {
   "cell_type": "code",
   "execution_count": 7,
   "metadata": {
    "collapsed": true
   },
   "outputs": [],
   "source": [
    "fixed = data.copy()"
   ]
  },
  {
   "cell_type": "code",
   "execution_count": 8,
   "metadata": {
    "collapsed": true
   },
   "outputs": [],
   "source": [
    "date_fixes = {\n",
    "    \"62101S\": \"621018\",\n",
    "    \"8S0623\": \"880623\"\n",
    "}"
   ]
  },
  {
   "cell_type": "code",
   "execution_count": 9,
   "metadata": {
    "collapsed": false
   },
   "outputs": [],
   "source": [
    "fixed[\"date\"] = data[\"date\"].apply(date_fixes.get).fillna(data[\"date\"]).astype(int)"
   ]
  },
  {
   "cell_type": "code",
   "execution_count": 10,
   "metadata": {
    "collapsed": false
   },
   "outputs": [],
   "source": [
    "fixed[\"date_long\"] = (fixed[\"date\"] + 19000000)\n",
    "fixed[\"year\"] = fixed[\"date_long\"] // 10000"
   ]
  },
  {
   "cell_type": "code",
   "execution_count": 11,
   "metadata": {
    "collapsed": true
   },
   "outputs": [],
   "source": [
    "country_fixes = {\n",
    "    \"USER\": \"USSR\",\n",
    "    \"USSP.\": \"USSR\",\n",
    "    \"OSSR\": \"USSR\",\n",
    "    \"USSE\": \"USSR\",\n",
    "    \"FEANCE\": \"FRANCE\",\n",
    "    \"CHIHA\": \"CHINA\",\n",
    "}"
   ]
  },
  {
   "cell_type": "code",
   "execution_count": 12,
   "metadata": {
    "collapsed": true
   },
   "outputs": [],
   "source": [
    "fixed[\"country\"] = data[\"country\"].apply(country_fixes.get).fillna(data[\"country\"])"
   ]
  },
  {
   "cell_type": "code",
   "execution_count": 13,
   "metadata": {
    "collapsed": false
   },
   "outputs": [
    {
     "data": {
      "text/plain": [
       "USA       1032\n",
       "USSR       714\n",
       "FRANCE     210\n",
       "UK          45\n",
       "CHINA       45\n",
       "INDIA        3\n",
       "PAKIST       2\n",
       "Name: country, dtype: int64"
      ]
     },
     "execution_count": 13,
     "metadata": {},
     "output_type": "execute_result"
    }
   ],
   "source": [
    "fixed[\"country\"].value_counts()"
   ]
  },
  {
   "cell_type": "code",
   "execution_count": 14,
   "metadata": {
    "collapsed": true
   },
   "outputs": [],
   "source": [
    "id_no_fixes = {\n",
    "    \"63 011\": \"63011\"\n",
    "}\n",
    "\n",
    "fixed[\"id_no\"] = data[\"id_no\"].apply(id_no_fixes.get).fillna(data[\"id_no\"]).astype(int)"
   ]
  },
  {
   "cell_type": "code",
   "execution_count": 15,
   "metadata": {
    "collapsed": false
   },
   "outputs": [],
   "source": [
    "origin_t_fixes = {\n",
    "    \"2S906.3\": \"25906.3\",\n",
    "    \"75S57.8\": \"75957.8\",\n",
    "    \"O.O\": \"0.0\",\n",
    "    \"190000. 0\": \"190000.0\"\n",
    "}\n",
    "\n",
    "fixed[\"origin_t\"] = data[\"origin_t\"].apply(origin_t_fixes.get).fillna(data[\"origin_t\"]).astype(float)"
   ]
  },
  {
   "cell_type": "code",
   "execution_count": 16,
   "metadata": {
    "collapsed": false
   },
   "outputs": [],
   "source": [
    "latitude_fixes = {\n",
    "    \"3 7.100\": \"37.100\"\n",
    "}\n",
    "\n",
    "fixed[\"latitude\"] = data[\"latitude\"].apply(latitude_fixes.get).fillna(data[\"latitude\"]).astype(float)"
   ]
  },
  {
   "cell_type": "code",
   "execution_count": 17,
   "metadata": {
    "collapsed": false
   },
   "outputs": [],
   "source": [
    "longitude_fixes = {\n",
    "    \": 0.000\": \"0.000\",\n",
    "    \"-13 9.000\": \"-139.000\",\n",
    "    \". 47.000\": \"47.000\",\n",
    "    \"11.ISO\": \"77.790\",\n",
    "    \": 78.910\": \"78.910\",\n",
    "    \"5.03 0\": \"5.030\",\n",
    "    \":  0.000\": \"0.000\"\n",
    "}\n",
    "\n",
    "fixed[\"longitude\"] = data[\"longitude\"].apply(longitude_fixes.get).fillna(data[\"longitude\"]).astype(float)"
   ]
  },
  {
   "cell_type": "code",
   "execution_count": 18,
   "metadata": {
    "collapsed": false
   },
   "outputs": [],
   "source": [
    "mb_fixes = {\n",
    "    \"S.O\": \"5.0\",\n",
    "    \"O.O\": \"0.0\"\n",
    "}\n",
    "\n",
    "fixed[\"mb\"] = data[\"mb\"].apply(mb_fixes.get).fillna(data[\"mb\"]).astype(float)"
   ]
  },
  {
   "cell_type": "code",
   "execution_count": 19,
   "metadata": {
    "collapsed": false
   },
   "outputs": [],
   "source": [
    "Ms_fixes = {\n",
    "    \"S.O\": \"5.0\",\n",
    "    \"O.O\": \"0.0\",\n",
    "    \",0.0\": \"0.0\"\n",
    "}\n",
    "\n",
    "fixed[\"Ms\"] = data[\"Ms\"].apply(Ms_fixes.get).fillna(data[\"Ms\"]).astype(float)"
   ]
  },
  {
   "cell_type": "code",
   "execution_count": 20,
   "metadata": {
    "collapsed": false
   },
   "outputs": [],
   "source": [
    "depth_fixes = {\n",
    "    \"O.000\": \"0.000\",\n",
    "    \"o.ooo\": \"0.000\",\n",
    "    \"-6.80O\": \"-6.800\",\n",
    "    \"-o.ooi\": \"-0.001\",\n",
    "    \"-O.001\": \"-0.001\",\n",
    "    \"-o.ioo\": \"-0.001\",\n",
    "    \"-0.25O\": \"-0.250\"\n",
    "}\n",
    "\n",
    "fixed[\"depth\"] = data[\"depth\"].apply(depth_fixes.get).fillna(data[\"depth\"]).astype(float)"
   ]
  },
  {
   "cell_type": "code",
   "execution_count": 21,
   "metadata": {
    "collapsed": false
   },
   "outputs": [],
   "source": [
    "yield_1_fixes = {\n",
    "    \"O.O\": \"0.0\",\n",
    "    \"O .O\": \"0.0\",\n",
    "    \"0:0\": \"0.0\",\n",
    "    \"Q,0\": \"0.0\",\n",
    "    \"6:0\": \"0.0\",\n",
    "    \"(JiO\": \"0.0\",\n",
    "    \"20;0\": \"20.0\",\n",
    "    \"5.3,\": \"5.3\",\n",
    "    \"190. 0\": \"190.0\",\n",
    "    \"286:o\": \"280.0\",\n",
    "    \"120..0\": \"120.0\",\n",
    "    \"51\\\\ 0\": \"51.0\",\n",
    "    \"900SP\": \"900.0\",\n",
    "    \"27..0\": \"27.0\",\n",
    "}\n",
    "\n",
    "fixed[\"yield_1\"] = data[\"yield_1\"].apply(yield_1_fixes.get).fillna(data[\"yield_1\"]).astype(float)"
   ]
  },
  {
   "cell_type": "code",
   "execution_count": 22,
   "metadata": {
    "collapsed": false
   },
   "outputs": [],
   "source": [
    "yield_u_fixes = {\n",
    "    \"S.O\": \"5.0\",\n",
    "    \": 20.0\": \"20.0\",\n",
    "    \". 20.0\": \"20.0\",\n",
    "    \"20.O\": \"20.0\",\n",
    "    \"20-0\": \"20.0\"\n",
    "}\n",
    "\n",
    "fixed[\"yield_u\"] = data[\"yield_u\"].apply(yield_u_fixes.get).fillna(data[\"yield_u\"]).astype(float)"
   ]
  },
  {
   "cell_type": "code",
   "execution_count": 23,
   "metadata": {
    "collapsed": false
   },
   "outputs": [
    {
     "data": {
      "text/plain": [
       "WR         1495\n",
       "WE          181\n",
       "PNE         153\n",
       "SE           71\n",
       "FMS          33\n",
       "PNE:PLO      27\n",
       "SAM          25\n",
       "WR/SE        11\n",
       "PNE:V         7\n",
       "WR/FMS        6\n",
       "WR/SAM        6\n",
       "SB            5\n",
       "TRANSP        4\n",
       "WE/SAM        3\n",
       "WE/WR         3\n",
       "WR/PNE        3\n",
       "WR/WE         2\n",
       "COMBAT        2\n",
       "PNE/WR        2\n",
       "FMS/WR        2\n",
       "SE/WR         2\n",
       "WR/F/SA       2\n",
       "WR/P/SA       1\n",
       "WR/WE/S       1\n",
       "WR/P/S        1\n",
       "WR/F/S        1\n",
       "ME            1\n",
       "Name: purpose, dtype: int64"
      ]
     },
     "execution_count": 23,
     "metadata": {},
     "output_type": "execute_result"
    }
   ],
   "source": [
    "purpose_fixes = {\n",
    "    \"Wt\": \"WE\",\n",
    "    \"WP.\": \"WR\",\n",
    "    \"KR\": \"WR\",\n",
    "    \"HP.\": \"WR\",\n",
    "    \"PHE\": \"PNE\",\n",
    "    \"PNE: PLO\": \"PNE:PLO\",\n",
    "    \"PNErPLO\": \"PNE:PLO\",\n",
    "    \"PNE-.PLO\": \"PNE:PLO\",\n",
    "}\n",
    "\n",
    "fixed[\"purpose\"] = data[\"purpose\"].apply(purpose_fixes.get).fillna(data[\"purpose\"])\n",
    "fixed[\"purpose\"].value_counts()"
   ]
  },
  {
   "cell_type": "code",
   "execution_count": 24,
   "metadata": {
    "collapsed": false
   },
   "outputs": [
    {
     "data": {
      "text/plain": [
       "SHAFT       1015\n",
       "TUNNEL       310\n",
       "ATMOSPH      185\n",
       "SHAFT/GR      85\n",
       "AIRDROP       78\n",
       "TOWER         75\n",
       "BALLOON       62\n",
       "SURFACE       62\n",
       "SHAFT/LG      56\n",
       "BARGE         40\n",
       "UG            32\n",
       "ROCKET        13\n",
       "GALLERY       13\n",
       "CRATER         9\n",
       "UW             8\n",
       "SPACE          4\n",
       "WATER SU       1\n",
       "SHIP           1\n",
       "WATERSUR       1\n",
       "MINE           1\n",
       "Name: type, dtype: int64"
      ]
     },
     "execution_count": 24,
     "metadata": {},
     "output_type": "execute_result"
    }
   ],
   "source": [
    "type_fixes = {\n",
    "    \"SHAFT/GE\": \"SHAFT/GR\",\n",
    "    \"BAEGE\": \"BARGE\",\n",
    "}\n",
    "\n",
    "fixed[\"type\"] = data[\"type\"].apply(type_fixes.get).fillna(data[\"type\"])\n",
    "fixed[\"type\"].value_counts()"
   ]
  },
  {
   "cell_type": "markdown",
   "metadata": {},
   "source": [
    "## Write the CSV"
   ]
  },
  {
   "cell_type": "code",
   "execution_count": 25,
   "metadata": {
    "collapsed": false
   },
   "outputs": [],
   "source": [
    "fixed.to_csv(\"../data/sipri-report-explosions.csv\", index=False)"
   ]
  },
  {
   "cell_type": "markdown",
   "metadata": {},
   "source": [
    "---\n",
    "\n",
    "---\n",
    "\n",
    "---"
   ]
  }
 ],
 "metadata": {
  "kernelspec": {
   "display_name": "Python 3",
   "language": "python",
   "name": "python3"
  },
  "language_info": {
   "codemirror_mode": {
    "name": "ipython",
    "version": 3
   },
   "file_extension": ".py",
   "mimetype": "text/x-python",
   "name": "python",
   "nbconvert_exporter": "python",
   "pygments_lexer": "ipython3",
   "version": "3.4.3"
  }
 },
 "nbformat": 4,
 "nbformat_minor": 0
}
