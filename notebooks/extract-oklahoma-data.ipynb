{
 "cells": [
  {
   "cell_type": "markdown",
   "metadata": {},
   "source": [
    "# Extracting data from the Oklahoma nuclear explosions catalog"
   ]
  },
  {
   "cell_type": "code",
   "execution_count": 1,
   "metadata": {
    "collapsed": true
   },
   "outputs": [],
   "source": [
    "import re\n",
    "import csv"
   ]
  },
  {
   "cell_type": "code",
   "execution_count": 2,
   "metadata": {
    "collapsed": true
   },
   "outputs": [],
   "source": [
    "dataline_pat = re.compile(r\"^\\d{6} .*$\")\n",
    "\n",
    "def txt_to_datalines(txt):\n",
    "    def is_dataline(line):\n",
    "        return re.match(dataline_pat, line)\n",
    "\n",
    "    lines = txt.split(\"\\n\")\n",
    "    datalines = list(filter(is_dataline, lines))\n",
    "    return datalines"
   ]
  },
  {
   "cell_type": "code",
   "execution_count": 3,
   "metadata": {
    "collapsed": true
   },
   "outputs": [],
   "source": [
    "def get_country(line):\n",
    "    return line[16:18]\n",
    "\n",
    "def has_valid_country(line):\n",
    "    country = get_country(line)\n",
    "    return (\n",
    "        country in (\"US\", \"GB\", \"CP\", \"FR\", \"IN\", \"PC\", \"IS\", \"PK\", \"NK\") and\n",
    "        line[16:24] != \"FRIJOLES\"\n",
    "    )"
   ]
  },
  {
   "cell_type": "code",
   "execution_count": 4,
   "metadata": {
    "collapsed": true
   },
   "outputs": [],
   "source": [
    "def txt_to_data(txt):\n",
    "    datalines = txt_to_datalines(txt)\n",
    "    country_lines = list(filter(has_valid_country, datalines))\n",
    "    fixed_width = (\"{0: <80}\".format(line) for line in country_lines)\n",
    "    return [ {\n",
    "        \"date\": line[:6].strip(),\n",
    "        \"time\": line[7:15].strip(),\n",
    "        \"testing_party\": line[16:18].strip(),\n",
    "        \"site\": line[18:21].strip(),\n",
    "        \"subsite\": line[21].strip(),\n",
    "        \"type\": line[23:27].strip(),\n",
    "        \"body_wave_magnitude\": line[28:31].strip(),\n",
    "        \"surface_wave_magnitude\": line[32:35].strip(),\n",
    "        \"explosive_yield\": line[36:41].strip(),\n",
    "        \"latitude\": line[42:49].strip().upper(),\n",
    "        \"longitude\": line[50:58].strip().upper(),\n",
    "        \"purpose\": line[59:61].strip(),\n",
    "        \"device_type\": line[61:63].strip(),\n",
    "        \"rock_type\": line[63:67].strip(),\n",
    "        \"device_position\": line[67].strip(),\n",
    "        \"name\": line[68:76].strip(),\n",
    "        \"references\": line[76:80].strip()\n",
    "    } for line in fixed_width ]"
   ]
  },
  {
   "cell_type": "code",
   "execution_count": 5,
   "metadata": {
    "collapsed": true
   },
   "outputs": [],
   "source": [
    "def data_to_csv(data, outfile):\n",
    "    cols = [ \"date\", \"time\", \"testing_party\", \"site\", \"subsite\", \"type\", \n",
    "            \"body_wave_magnitude\", \"surface_wave_magnitude\", \"explosive_yield\", \n",
    "            \"latitude\", \"longitude\", \"purpose\", \"device_type\", \"rock_type\", \n",
    "            \"device_position\", \"name\", \"references\" ] \n",
    "    writer = csv.DictWriter(outfile, fieldnames=cols)\n",
    "    writer.writeheader()\n",
    "    writer.writerows(data)"
   ]
  },
  {
   "cell_type": "code",
   "execution_count": 6,
   "metadata": {
    "collapsed": false
   },
   "outputs": [],
   "source": [
    "txt = open(\"../documents/oklahoma-catalog-original.txt\").read()\n",
    "data = txt_to_data(txt)"
   ]
  },
  {
   "cell_type": "code",
   "execution_count": 7,
   "metadata": {
    "collapsed": true
   },
   "outputs": [],
   "source": [
    "with open(\"../data/oklahoma-catalog-explosions.csv\", \"w\") as f:\n",
    "    data_to_csv(data, f)"
   ]
  },
  {
   "cell_type": "markdown",
   "metadata": {},
   "source": [
    "---\n",
    "\n",
    "---\n",
    "\n",
    "---"
   ]
  }
 ],
 "metadata": {
  "kernelspec": {
   "display_name": "Python 3",
   "language": "python",
   "name": "python3"
  },
  "language_info": {
   "codemirror_mode": {
    "name": "ipython",
    "version": 3
   },
   "file_extension": ".py",
   "mimetype": "text/x-python",
   "name": "python",
   "nbconvert_exporter": "python",
   "pygments_lexer": "ipython3",
   "version": "3.4.3"
  }
 },
 "nbformat": 4,
 "nbformat_minor": 0
}
